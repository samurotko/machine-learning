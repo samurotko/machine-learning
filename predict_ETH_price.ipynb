{
 "cells": [
  {
   "cell_type": "code",
   "execution_count": 201,
   "metadata": {},
   "outputs": [],
   "source": [
    "\n",
    "import numpy as np\n",
    "import pandas as pd\n",
    "import matplotlib.pyplot as plt\n",
    "import seaborn as sns  #data visualization library\n",
    "from sklearn.linear_model import LogisticRegression\n",
    "from sklearn.model_selection import train_test_split\n",
    "from sklearn.metrics import mean_squared_error, accuracy_score\n",
    "from sklearn.linear_model import LinearRegression"
   ]
  },
  {
   "cell_type": "code",
   "execution_count": 202,
   "metadata": {},
   "outputs": [],
   "source": [
    "df = pd.read_csv('data.csv')\n",
    "#df.drop(columns=['Unix Timestamp','Symbol'],inplace=True)\n",
    "df.dropna(inplace=True) #drop nulls"
   ]
  },
  {
   "cell_type": "code",
   "execution_count": 203,
   "metadata": {},
   "outputs": [],
   "source": [
    "#df.head(10000).to_csv('data.csv')"
   ]
  },
  {
   "cell_type": "code",
   "execution_count": 204,
   "metadata": {},
   "outputs": [
    {
     "data": {
      "text/html": [
       "<div>\n",
       "<style scoped>\n",
       "    .dataframe tbody tr th:only-of-type {\n",
       "        vertical-align: middle;\n",
       "    }\n",
       "\n",
       "    .dataframe tbody tr th {\n",
       "        vertical-align: top;\n",
       "    }\n",
       "\n",
       "    .dataframe thead th {\n",
       "        text-align: right;\n",
       "    }\n",
       "</style>\n",
       "<table border=\"1\" class=\"dataframe\">\n",
       "  <thead>\n",
       "    <tr style=\"text-align: right;\">\n",
       "      <th></th>\n",
       "      <th>Unnamed: 0.2</th>\n",
       "      <th>Unnamed: 0.1</th>\n",
       "      <th>Unnamed: 0</th>\n",
       "      <th>Timestamp</th>\n",
       "      <th>Open</th>\n",
       "      <th>High</th>\n",
       "      <th>Low</th>\n",
       "      <th>Close</th>\n",
       "      <th>Volume_(BTC)</th>\n",
       "      <th>Volume_(Currency)</th>\n",
       "      <th>Weighted_Price</th>\n",
       "      <th>Change</th>\n",
       "      <th>Dates</th>\n",
       "    </tr>\n",
       "  </thead>\n",
       "  <tbody>\n",
       "    <tr>\n",
       "      <th>0</th>\n",
       "      <td>0</td>\n",
       "      <td>0</td>\n",
       "      <td>0</td>\n",
       "      <td>1325317920</td>\n",
       "      <td>4.39</td>\n",
       "      <td>4.39</td>\n",
       "      <td>4.39</td>\n",
       "      <td>4.39</td>\n",
       "      <td>0.455581</td>\n",
       "      <td>2.000000</td>\n",
       "      <td>4.390000</td>\n",
       "      <td>0.000000</td>\n",
       "      <td>2011-12-31 07:52:00</td>\n",
       "    </tr>\n",
       "    <tr>\n",
       "      <th>1</th>\n",
       "      <td>1</td>\n",
       "      <td>1</td>\n",
       "      <td>478</td>\n",
       "      <td>1325346600</td>\n",
       "      <td>4.39</td>\n",
       "      <td>4.39</td>\n",
       "      <td>4.39</td>\n",
       "      <td>4.39</td>\n",
       "      <td>48.000000</td>\n",
       "      <td>210.720000</td>\n",
       "      <td>4.390000</td>\n",
       "      <td>0.000000</td>\n",
       "      <td>2011-12-31 15:50:00</td>\n",
       "    </tr>\n",
       "    <tr>\n",
       "      <th>2</th>\n",
       "      <td>2</td>\n",
       "      <td>2</td>\n",
       "      <td>547</td>\n",
       "      <td>1325350740</td>\n",
       "      <td>4.50</td>\n",
       "      <td>4.57</td>\n",
       "      <td>4.50</td>\n",
       "      <td>4.57</td>\n",
       "      <td>37.862297</td>\n",
       "      <td>171.380338</td>\n",
       "      <td>4.526411</td>\n",
       "      <td>1.531729</td>\n",
       "      <td>2011-12-31 16:59:00</td>\n",
       "    </tr>\n",
       "    <tr>\n",
       "      <th>3</th>\n",
       "      <td>3</td>\n",
       "      <td>3</td>\n",
       "      <td>548</td>\n",
       "      <td>1325350800</td>\n",
       "      <td>4.58</td>\n",
       "      <td>4.58</td>\n",
       "      <td>4.58</td>\n",
       "      <td>4.58</td>\n",
       "      <td>9.000000</td>\n",
       "      <td>41.220000</td>\n",
       "      <td>4.580000</td>\n",
       "      <td>0.000000</td>\n",
       "      <td>2011-12-31 17:00:00</td>\n",
       "    </tr>\n",
       "    <tr>\n",
       "      <th>4</th>\n",
       "      <td>4</td>\n",
       "      <td>4</td>\n",
       "      <td>1224</td>\n",
       "      <td>1325391360</td>\n",
       "      <td>4.58</td>\n",
       "      <td>4.58</td>\n",
       "      <td>4.58</td>\n",
       "      <td>4.58</td>\n",
       "      <td>1.502000</td>\n",
       "      <td>6.879160</td>\n",
       "      <td>4.580000</td>\n",
       "      <td>0.000000</td>\n",
       "      <td>2012-01-01 04:16:00</td>\n",
       "    </tr>\n",
       "    <tr>\n",
       "      <th>5</th>\n",
       "      <td>5</td>\n",
       "      <td>5</td>\n",
       "      <td>1896</td>\n",
       "      <td>1325431680</td>\n",
       "      <td>4.84</td>\n",
       "      <td>4.84</td>\n",
       "      <td>4.84</td>\n",
       "      <td>4.84</td>\n",
       "      <td>10.000000</td>\n",
       "      <td>48.400000</td>\n",
       "      <td>4.840000</td>\n",
       "      <td>0.000000</td>\n",
       "      <td>2012-01-01 15:28:00</td>\n",
       "    </tr>\n",
       "    <tr>\n",
       "      <th>6</th>\n",
       "      <td>6</td>\n",
       "      <td>6</td>\n",
       "      <td>2333</td>\n",
       "      <td>1325457900</td>\n",
       "      <td>5.00</td>\n",
       "      <td>5.00</td>\n",
       "      <td>5.00</td>\n",
       "      <td>5.00</td>\n",
       "      <td>10.100000</td>\n",
       "      <td>50.500000</td>\n",
       "      <td>5.000000</td>\n",
       "      <td>0.000000</td>\n",
       "      <td>2012-01-01 22:45:00</td>\n",
       "    </tr>\n",
       "    <tr>\n",
       "      <th>7</th>\n",
       "      <td>7</td>\n",
       "      <td>7</td>\n",
       "      <td>3612</td>\n",
       "      <td>1325534640</td>\n",
       "      <td>5.00</td>\n",
       "      <td>5.00</td>\n",
       "      <td>5.00</td>\n",
       "      <td>5.00</td>\n",
       "      <td>19.048000</td>\n",
       "      <td>95.240000</td>\n",
       "      <td>5.000000</td>\n",
       "      <td>0.000000</td>\n",
       "      <td>2012-01-02 20:04:00</td>\n",
       "    </tr>\n",
       "    <tr>\n",
       "      <th>8</th>\n",
       "      <td>8</td>\n",
       "      <td>8</td>\n",
       "      <td>4553</td>\n",
       "      <td>1325591100</td>\n",
       "      <td>5.32</td>\n",
       "      <td>5.32</td>\n",
       "      <td>5.32</td>\n",
       "      <td>5.32</td>\n",
       "      <td>2.419173</td>\n",
       "      <td>12.870000</td>\n",
       "      <td>5.320000</td>\n",
       "      <td>0.000000</td>\n",
       "      <td>2012-01-03 11:45:00</td>\n",
       "    </tr>\n",
       "    <tr>\n",
       "      <th>9</th>\n",
       "      <td>9</td>\n",
       "      <td>9</td>\n",
       "      <td>4710</td>\n",
       "      <td>1325600520</td>\n",
       "      <td>5.14</td>\n",
       "      <td>5.14</td>\n",
       "      <td>5.14</td>\n",
       "      <td>5.14</td>\n",
       "      <td>0.680000</td>\n",
       "      <td>3.495200</td>\n",
       "      <td>5.140000</td>\n",
       "      <td>0.000000</td>\n",
       "      <td>2012-01-03 14:22:00</td>\n",
       "    </tr>\n",
       "  </tbody>\n",
       "</table>\n",
       "</div>"
      ],
      "text/plain": [
       "   Unnamed: 0.2  Unnamed: 0.1  Unnamed: 0   Timestamp  Open  High   Low  \\\n",
       "0             0             0           0  1325317920  4.39  4.39  4.39   \n",
       "1             1             1         478  1325346600  4.39  4.39  4.39   \n",
       "2             2             2         547  1325350740  4.50  4.57  4.50   \n",
       "3             3             3         548  1325350800  4.58  4.58  4.58   \n",
       "4             4             4        1224  1325391360  4.58  4.58  4.58   \n",
       "5             5             5        1896  1325431680  4.84  4.84  4.84   \n",
       "6             6             6        2333  1325457900  5.00  5.00  5.00   \n",
       "7             7             7        3612  1325534640  5.00  5.00  5.00   \n",
       "8             8             8        4553  1325591100  5.32  5.32  5.32   \n",
       "9             9             9        4710  1325600520  5.14  5.14  5.14   \n",
       "\n",
       "   Close  Volume_(BTC)  Volume_(Currency)  Weighted_Price    Change  \\\n",
       "0   4.39      0.455581           2.000000        4.390000  0.000000   \n",
       "1   4.39     48.000000         210.720000        4.390000  0.000000   \n",
       "2   4.57     37.862297         171.380338        4.526411  1.531729   \n",
       "3   4.58      9.000000          41.220000        4.580000  0.000000   \n",
       "4   4.58      1.502000           6.879160        4.580000  0.000000   \n",
       "5   4.84     10.000000          48.400000        4.840000  0.000000   \n",
       "6   5.00     10.100000          50.500000        5.000000  0.000000   \n",
       "7   5.00     19.048000          95.240000        5.000000  0.000000   \n",
       "8   5.32      2.419173          12.870000        5.320000  0.000000   \n",
       "9   5.14      0.680000           3.495200        5.140000  0.000000   \n",
       "\n",
       "                Dates  \n",
       "0 2011-12-31 07:52:00  \n",
       "1 2011-12-31 15:50:00  \n",
       "2 2011-12-31 16:59:00  \n",
       "3 2011-12-31 17:00:00  \n",
       "4 2012-01-01 04:16:00  \n",
       "5 2012-01-01 15:28:00  \n",
       "6 2012-01-01 22:45:00  \n",
       "7 2012-01-02 20:04:00  \n",
       "8 2012-01-03 11:45:00  \n",
       "9 2012-01-03 14:22:00  "
      ]
     },
     "execution_count": 204,
     "metadata": {},
     "output_type": "execute_result"
    }
   ],
   "source": [
    "\n",
    "df['Change']=df.apply(lambda row: (row.Close-row.Open)/row.Close*100, axis=1)\n",
    "df['Dates'] = pd.to_datetime(df['Timestamp'], unit='s')\n",
    "df.head(10)"
   ]
  },
  {
   "cell_type": "code",
   "execution_count": 205,
   "metadata": {},
   "outputs": [
    {
     "data": {
      "text/html": [
       "<div>\n",
       "<style scoped>\n",
       "    .dataframe tbody tr th:only-of-type {\n",
       "        vertical-align: middle;\n",
       "    }\n",
       "\n",
       "    .dataframe tbody tr th {\n",
       "        vertical-align: top;\n",
       "    }\n",
       "\n",
       "    .dataframe thead th {\n",
       "        text-align: right;\n",
       "    }\n",
       "</style>\n",
       "<table border=\"1\" class=\"dataframe\">\n",
       "  <thead>\n",
       "    <tr style=\"text-align: right;\">\n",
       "      <th></th>\n",
       "      <th>Timestamp</th>\n",
       "      <th>Open</th>\n",
       "      <th>High</th>\n",
       "      <th>Low</th>\n",
       "      <th>Close</th>\n",
       "      <th>Volume_(BTC)</th>\n",
       "      <th>Volume_(Currency)</th>\n",
       "      <th>Weighted_Price</th>\n",
       "      <th>Change</th>\n",
       "      <th>Dates</th>\n",
       "    </tr>\n",
       "  </thead>\n",
       "  <tbody>\n",
       "    <tr>\n",
       "      <th>0</th>\n",
       "      <td>1325317920</td>\n",
       "      <td>4.39</td>\n",
       "      <td>4.39</td>\n",
       "      <td>4.39</td>\n",
       "      <td>4.39</td>\n",
       "      <td>0.455581</td>\n",
       "      <td>2.000000</td>\n",
       "      <td>4.390000</td>\n",
       "      <td>0.000000</td>\n",
       "      <td>2011-12-31 07:52:00</td>\n",
       "    </tr>\n",
       "    <tr>\n",
       "      <th>1</th>\n",
       "      <td>1325346600</td>\n",
       "      <td>4.39</td>\n",
       "      <td>4.39</td>\n",
       "      <td>4.39</td>\n",
       "      <td>4.39</td>\n",
       "      <td>48.000000</td>\n",
       "      <td>210.720000</td>\n",
       "      <td>4.390000</td>\n",
       "      <td>0.000000</td>\n",
       "      <td>2011-12-31 15:50:00</td>\n",
       "    </tr>\n",
       "    <tr>\n",
       "      <th>2</th>\n",
       "      <td>1325350740</td>\n",
       "      <td>4.50</td>\n",
       "      <td>4.57</td>\n",
       "      <td>4.50</td>\n",
       "      <td>4.57</td>\n",
       "      <td>37.862297</td>\n",
       "      <td>171.380338</td>\n",
       "      <td>4.526411</td>\n",
       "      <td>1.531729</td>\n",
       "      <td>2011-12-31 16:59:00</td>\n",
       "    </tr>\n",
       "    <tr>\n",
       "      <th>3</th>\n",
       "      <td>1325350800</td>\n",
       "      <td>4.58</td>\n",
       "      <td>4.58</td>\n",
       "      <td>4.58</td>\n",
       "      <td>4.58</td>\n",
       "      <td>9.000000</td>\n",
       "      <td>41.220000</td>\n",
       "      <td>4.580000</td>\n",
       "      <td>0.000000</td>\n",
       "      <td>2011-12-31 17:00:00</td>\n",
       "    </tr>\n",
       "    <tr>\n",
       "      <th>4</th>\n",
       "      <td>1325391360</td>\n",
       "      <td>4.58</td>\n",
       "      <td>4.58</td>\n",
       "      <td>4.58</td>\n",
       "      <td>4.58</td>\n",
       "      <td>1.502000</td>\n",
       "      <td>6.879160</td>\n",
       "      <td>4.580000</td>\n",
       "      <td>0.000000</td>\n",
       "      <td>2012-01-01 04:16:00</td>\n",
       "    </tr>\n",
       "    <tr>\n",
       "      <th>5</th>\n",
       "      <td>1325431680</td>\n",
       "      <td>4.84</td>\n",
       "      <td>4.84</td>\n",
       "      <td>4.84</td>\n",
       "      <td>4.84</td>\n",
       "      <td>10.000000</td>\n",
       "      <td>48.400000</td>\n",
       "      <td>4.840000</td>\n",
       "      <td>0.000000</td>\n",
       "      <td>2012-01-01 15:28:00</td>\n",
       "    </tr>\n",
       "    <tr>\n",
       "      <th>6</th>\n",
       "      <td>1325457900</td>\n",
       "      <td>5.00</td>\n",
       "      <td>5.00</td>\n",
       "      <td>5.00</td>\n",
       "      <td>5.00</td>\n",
       "      <td>10.100000</td>\n",
       "      <td>50.500000</td>\n",
       "      <td>5.000000</td>\n",
       "      <td>0.000000</td>\n",
       "      <td>2012-01-01 22:45:00</td>\n",
       "    </tr>\n",
       "    <tr>\n",
       "      <th>7</th>\n",
       "      <td>1325534640</td>\n",
       "      <td>5.00</td>\n",
       "      <td>5.00</td>\n",
       "      <td>5.00</td>\n",
       "      <td>5.00</td>\n",
       "      <td>19.048000</td>\n",
       "      <td>95.240000</td>\n",
       "      <td>5.000000</td>\n",
       "      <td>0.000000</td>\n",
       "      <td>2012-01-02 20:04:00</td>\n",
       "    </tr>\n",
       "    <tr>\n",
       "      <th>8</th>\n",
       "      <td>1325591100</td>\n",
       "      <td>5.32</td>\n",
       "      <td>5.32</td>\n",
       "      <td>5.32</td>\n",
       "      <td>5.32</td>\n",
       "      <td>2.419173</td>\n",
       "      <td>12.870000</td>\n",
       "      <td>5.320000</td>\n",
       "      <td>0.000000</td>\n",
       "      <td>2012-01-03 11:45:00</td>\n",
       "    </tr>\n",
       "    <tr>\n",
       "      <th>9</th>\n",
       "      <td>1325600520</td>\n",
       "      <td>5.14</td>\n",
       "      <td>5.14</td>\n",
       "      <td>5.14</td>\n",
       "      <td>5.14</td>\n",
       "      <td>0.680000</td>\n",
       "      <td>3.495200</td>\n",
       "      <td>5.140000</td>\n",
       "      <td>0.000000</td>\n",
       "      <td>2012-01-03 14:22:00</td>\n",
       "    </tr>\n",
       "  </tbody>\n",
       "</table>\n",
       "</div>"
      ],
      "text/plain": [
       "    Timestamp  Open  High   Low  Close  Volume_(BTC)  Volume_(Currency)  \\\n",
       "0  1325317920  4.39  4.39  4.39   4.39      0.455581           2.000000   \n",
       "1  1325346600  4.39  4.39  4.39   4.39     48.000000         210.720000   \n",
       "2  1325350740  4.50  4.57  4.50   4.57     37.862297         171.380338   \n",
       "3  1325350800  4.58  4.58  4.58   4.58      9.000000          41.220000   \n",
       "4  1325391360  4.58  4.58  4.58   4.58      1.502000           6.879160   \n",
       "5  1325431680  4.84  4.84  4.84   4.84     10.000000          48.400000   \n",
       "6  1325457900  5.00  5.00  5.00   5.00     10.100000          50.500000   \n",
       "7  1325534640  5.00  5.00  5.00   5.00     19.048000          95.240000   \n",
       "8  1325591100  5.32  5.32  5.32   5.32      2.419173          12.870000   \n",
       "9  1325600520  5.14  5.14  5.14   5.14      0.680000           3.495200   \n",
       "\n",
       "   Weighted_Price    Change               Dates  \n",
       "0        4.390000  0.000000 2011-12-31 07:52:00  \n",
       "1        4.390000  0.000000 2011-12-31 15:50:00  \n",
       "2        4.526411  1.531729 2011-12-31 16:59:00  \n",
       "3        4.580000  0.000000 2011-12-31 17:00:00  \n",
       "4        4.580000  0.000000 2012-01-01 04:16:00  \n",
       "5        4.840000  0.000000 2012-01-01 15:28:00  \n",
       "6        5.000000  0.000000 2012-01-01 22:45:00  \n",
       "7        5.000000  0.000000 2012-01-02 20:04:00  \n",
       "8        5.320000  0.000000 2012-01-03 11:45:00  \n",
       "9        5.140000  0.000000 2012-01-03 14:22:00  "
      ]
     },
     "execution_count": 205,
     "metadata": {},
     "output_type": "execute_result"
    }
   ],
   "source": [
    "df=df.drop(columns=['Unnamed: 0.2', 'Unnamed: 0.1', 'Unnamed: 0'])\n",
    "df.head(10)\n"
   ]
  },
  {
   "cell_type": "code",
   "execution_count": 206,
   "metadata": {},
   "outputs": [
    {
     "data": {
      "text/html": [
       "<div>\n",
       "<style scoped>\n",
       "    .dataframe tbody tr th:only-of-type {\n",
       "        vertical-align: middle;\n",
       "    }\n",
       "\n",
       "    .dataframe tbody tr th {\n",
       "        vertical-align: top;\n",
       "    }\n",
       "\n",
       "    .dataframe thead th {\n",
       "        text-align: right;\n",
       "    }\n",
       "</style>\n",
       "<table border=\"1\" class=\"dataframe\">\n",
       "  <thead>\n",
       "    <tr style=\"text-align: right;\">\n",
       "      <th></th>\n",
       "      <th>Timestamp</th>\n",
       "      <th>Open</th>\n",
       "      <th>High</th>\n",
       "      <th>Low</th>\n",
       "      <th>Close</th>\n",
       "      <th>Volume_(BTC)</th>\n",
       "      <th>Volume_(Currency)</th>\n",
       "      <th>Weighted_Price</th>\n",
       "      <th>Change</th>\n",
       "      <th>Dates</th>\n",
       "    </tr>\n",
       "  </thead>\n",
       "  <tbody>\n",
       "    <tr>\n",
       "      <th>9739</th>\n",
       "      <td>1345232160</td>\n",
       "      <td>14.68</td>\n",
       "      <td>14.68</td>\n",
       "      <td>13.22</td>\n",
       "      <td>13.22</td>\n",
       "      <td>7.295131</td>\n",
       "      <td>103.741625</td>\n",
       "      <td>14.220667</td>\n",
       "      <td>-11.043873</td>\n",
       "      <td>2012-08-17 19:36:00</td>\n",
       "    </tr>\n",
       "    <tr>\n",
       "      <th>9580</th>\n",
       "      <td>1345191120</td>\n",
       "      <td>16.41</td>\n",
       "      <td>16.41</td>\n",
       "      <td>15.01</td>\n",
       "      <td>15.01</td>\n",
       "      <td>46.402803</td>\n",
       "      <td>747.470000</td>\n",
       "      <td>16.108294</td>\n",
       "      <td>-9.327115</td>\n",
       "      <td>2012-08-17 08:12:00</td>\n",
       "    </tr>\n",
       "    <tr>\n",
       "      <th>9586</th>\n",
       "      <td>1345191480</td>\n",
       "      <td>16.39</td>\n",
       "      <td>16.39</td>\n",
       "      <td>15.00</td>\n",
       "      <td>15.00</td>\n",
       "      <td>27.408728</td>\n",
       "      <td>449.135000</td>\n",
       "      <td>16.386568</td>\n",
       "      <td>-9.266667</td>\n",
       "      <td>2012-08-17 08:18:00</td>\n",
       "    </tr>\n",
       "    <tr>\n",
       "      <th>9758</th>\n",
       "      <td>1345233780</td>\n",
       "      <td>12.97</td>\n",
       "      <td>12.97</td>\n",
       "      <td>12.00</td>\n",
       "      <td>12.00</td>\n",
       "      <td>20.174690</td>\n",
       "      <td>242.265729</td>\n",
       "      <td>12.008399</td>\n",
       "      <td>-8.083333</td>\n",
       "      <td>2012-08-17 20:03:00</td>\n",
       "    </tr>\n",
       "    <tr>\n",
       "      <th>9746</th>\n",
       "      <td>1345232820</td>\n",
       "      <td>13.04</td>\n",
       "      <td>13.04</td>\n",
       "      <td>12.07</td>\n",
       "      <td>12.07</td>\n",
       "      <td>570.000000</td>\n",
       "      <td>7172.341955</td>\n",
       "      <td>12.583056</td>\n",
       "      <td>-8.036454</td>\n",
       "      <td>2012-08-17 19:47:00</td>\n",
       "    </tr>\n",
       "    <tr>\n",
       "      <th>9756</th>\n",
       "      <td>1345233660</td>\n",
       "      <td>12.98</td>\n",
       "      <td>12.98</td>\n",
       "      <td>12.02</td>\n",
       "      <td>12.02</td>\n",
       "      <td>1.481692</td>\n",
       "      <td>17.963139</td>\n",
       "      <td>12.123400</td>\n",
       "      <td>-7.986689</td>\n",
       "      <td>2012-08-17 20:01:00</td>\n",
       "    </tr>\n",
       "    <tr>\n",
       "      <th>9748</th>\n",
       "      <td>1345233060</td>\n",
       "      <td>12.99</td>\n",
       "      <td>13.00</td>\n",
       "      <td>12.09</td>\n",
       "      <td>12.09</td>\n",
       "      <td>13.520000</td>\n",
       "      <td>174.843000</td>\n",
       "      <td>12.932175</td>\n",
       "      <td>-7.444169</td>\n",
       "      <td>2012-08-17 19:51:00</td>\n",
       "    </tr>\n",
       "    <tr>\n",
       "      <th>199</th>\n",
       "      <td>1326463560</td>\n",
       "      <td>7.35</td>\n",
       "      <td>7.35</td>\n",
       "      <td>6.86</td>\n",
       "      <td>6.86</td>\n",
       "      <td>1.457726</td>\n",
       "      <td>10.578299</td>\n",
       "      <td>7.256713</td>\n",
       "      <td>-7.142857</td>\n",
       "      <td>2012-01-13 14:06:00</td>\n",
       "    </tr>\n",
       "    <tr>\n",
       "      <th>9766</th>\n",
       "      <td>1345234320</td>\n",
       "      <td>12.56</td>\n",
       "      <td>12.56</td>\n",
       "      <td>11.93</td>\n",
       "      <td>11.93</td>\n",
       "      <td>13.440500</td>\n",
       "      <td>160.465656</td>\n",
       "      <td>11.938965</td>\n",
       "      <td>-5.280805</td>\n",
       "      <td>2012-08-17 20:12:00</td>\n",
       "    </tr>\n",
       "    <tr>\n",
       "      <th>9736</th>\n",
       "      <td>1345231980</td>\n",
       "      <td>13.99</td>\n",
       "      <td>13.99</td>\n",
       "      <td>13.30</td>\n",
       "      <td>13.30</td>\n",
       "      <td>8.228979</td>\n",
       "      <td>111.377427</td>\n",
       "      <td>13.534780</td>\n",
       "      <td>-5.187970</td>\n",
       "      <td>2012-08-17 19:33:00</td>\n",
       "    </tr>\n",
       "  </tbody>\n",
       "</table>\n",
       "</div>"
      ],
      "text/plain": [
       "       Timestamp   Open   High    Low  Close  Volume_(BTC)  Volume_(Currency)  \\\n",
       "9739  1345232160  14.68  14.68  13.22  13.22      7.295131         103.741625   \n",
       "9580  1345191120  16.41  16.41  15.01  15.01     46.402803         747.470000   \n",
       "9586  1345191480  16.39  16.39  15.00  15.00     27.408728         449.135000   \n",
       "9758  1345233780  12.97  12.97  12.00  12.00     20.174690         242.265729   \n",
       "9746  1345232820  13.04  13.04  12.07  12.07    570.000000        7172.341955   \n",
       "9756  1345233660  12.98  12.98  12.02  12.02      1.481692          17.963139   \n",
       "9748  1345233060  12.99  13.00  12.09  12.09     13.520000         174.843000   \n",
       "199   1326463560   7.35   7.35   6.86   6.86      1.457726          10.578299   \n",
       "9766  1345234320  12.56  12.56  11.93  11.93     13.440500         160.465656   \n",
       "9736  1345231980  13.99  13.99  13.30  13.30      8.228979         111.377427   \n",
       "\n",
       "      Weighted_Price     Change               Dates  \n",
       "9739       14.220667 -11.043873 2012-08-17 19:36:00  \n",
       "9580       16.108294  -9.327115 2012-08-17 08:12:00  \n",
       "9586       16.386568  -9.266667 2012-08-17 08:18:00  \n",
       "9758       12.008399  -8.083333 2012-08-17 20:03:00  \n",
       "9746       12.583056  -8.036454 2012-08-17 19:47:00  \n",
       "9756       12.123400  -7.986689 2012-08-17 20:01:00  \n",
       "9748       12.932175  -7.444169 2012-08-17 19:51:00  \n",
       "199         7.256713  -7.142857 2012-01-13 14:06:00  \n",
       "9766       11.938965  -5.280805 2012-08-17 20:12:00  \n",
       "9736       13.534780  -5.187970 2012-08-17 19:33:00  "
      ]
     },
     "execution_count": 206,
     "metadata": {},
     "output_type": "execute_result"
    }
   ],
   "source": [
    "#df.drop(df[df['Change'] < 100].index, inplace = True)\n",
    "df.dropna(inplace=True) #drop nulls\n",
    "df.head(10)\n",
    "df.nsmallest(10, 'Change')"
   ]
  },
  {
   "cell_type": "code",
   "execution_count": 207,
   "metadata": {},
   "outputs": [
    {
     "data": {
      "text/html": [
       "<div>\n",
       "<style scoped>\n",
       "    .dataframe tbody tr th:only-of-type {\n",
       "        vertical-align: middle;\n",
       "    }\n",
       "\n",
       "    .dataframe tbody tr th {\n",
       "        vertical-align: top;\n",
       "    }\n",
       "\n",
       "    .dataframe thead th {\n",
       "        text-align: right;\n",
       "    }\n",
       "</style>\n",
       "<table border=\"1\" class=\"dataframe\">\n",
       "  <thead>\n",
       "    <tr style=\"text-align: right;\">\n",
       "      <th></th>\n",
       "      <th>Timestamp</th>\n",
       "      <th>Open</th>\n",
       "      <th>High</th>\n",
       "      <th>Low</th>\n",
       "      <th>Close</th>\n",
       "      <th>Volume_(BTC)</th>\n",
       "      <th>Volume_(Currency)</th>\n",
       "      <th>Weighted_Price</th>\n",
       "      <th>Change</th>\n",
       "      <th>Dates</th>\n",
       "    </tr>\n",
       "  </thead>\n",
       "  <tbody>\n",
       "    <tr>\n",
       "      <th>9739</th>\n",
       "      <td>1345232160</td>\n",
       "      <td>14.68</td>\n",
       "      <td>14.68</td>\n",
       "      <td>13.22</td>\n",
       "      <td>13.22</td>\n",
       "      <td>7.295131</td>\n",
       "      <td>103.741625</td>\n",
       "      <td>14.220667</td>\n",
       "      <td>-11.043873</td>\n",
       "      <td>2012-08-17 19:36:00</td>\n",
       "    </tr>\n",
       "    <tr>\n",
       "      <th>9580</th>\n",
       "      <td>1345191120</td>\n",
       "      <td>16.41</td>\n",
       "      <td>16.41</td>\n",
       "      <td>15.01</td>\n",
       "      <td>15.01</td>\n",
       "      <td>46.402803</td>\n",
       "      <td>747.470000</td>\n",
       "      <td>16.108294</td>\n",
       "      <td>-9.327115</td>\n",
       "      <td>2012-08-17 08:12:00</td>\n",
       "    </tr>\n",
       "    <tr>\n",
       "      <th>9586</th>\n",
       "      <td>1345191480</td>\n",
       "      <td>16.39</td>\n",
       "      <td>16.39</td>\n",
       "      <td>15.00</td>\n",
       "      <td>15.00</td>\n",
       "      <td>27.408728</td>\n",
       "      <td>449.135000</td>\n",
       "      <td>16.386568</td>\n",
       "      <td>-9.266667</td>\n",
       "      <td>2012-08-17 08:18:00</td>\n",
       "    </tr>\n",
       "    <tr>\n",
       "      <th>9758</th>\n",
       "      <td>1345233780</td>\n",
       "      <td>12.97</td>\n",
       "      <td>12.97</td>\n",
       "      <td>12.00</td>\n",
       "      <td>12.00</td>\n",
       "      <td>20.174690</td>\n",
       "      <td>242.265729</td>\n",
       "      <td>12.008399</td>\n",
       "      <td>-8.083333</td>\n",
       "      <td>2012-08-17 20:03:00</td>\n",
       "    </tr>\n",
       "    <tr>\n",
       "      <th>9746</th>\n",
       "      <td>1345232820</td>\n",
       "      <td>13.04</td>\n",
       "      <td>13.04</td>\n",
       "      <td>12.07</td>\n",
       "      <td>12.07</td>\n",
       "      <td>570.000000</td>\n",
       "      <td>7172.341955</td>\n",
       "      <td>12.583056</td>\n",
       "      <td>-8.036454</td>\n",
       "      <td>2012-08-17 19:47:00</td>\n",
       "    </tr>\n",
       "    <tr>\n",
       "      <th>9756</th>\n",
       "      <td>1345233660</td>\n",
       "      <td>12.98</td>\n",
       "      <td>12.98</td>\n",
       "      <td>12.02</td>\n",
       "      <td>12.02</td>\n",
       "      <td>1.481692</td>\n",
       "      <td>17.963139</td>\n",
       "      <td>12.123400</td>\n",
       "      <td>-7.986689</td>\n",
       "      <td>2012-08-17 20:01:00</td>\n",
       "    </tr>\n",
       "    <tr>\n",
       "      <th>9748</th>\n",
       "      <td>1345233060</td>\n",
       "      <td>12.99</td>\n",
       "      <td>13.00</td>\n",
       "      <td>12.09</td>\n",
       "      <td>12.09</td>\n",
       "      <td>13.520000</td>\n",
       "      <td>174.843000</td>\n",
       "      <td>12.932175</td>\n",
       "      <td>-7.444169</td>\n",
       "      <td>2012-08-17 19:51:00</td>\n",
       "    </tr>\n",
       "    <tr>\n",
       "      <th>199</th>\n",
       "      <td>1326463560</td>\n",
       "      <td>7.35</td>\n",
       "      <td>7.35</td>\n",
       "      <td>6.86</td>\n",
       "      <td>6.86</td>\n",
       "      <td>1.457726</td>\n",
       "      <td>10.578299</td>\n",
       "      <td>7.256713</td>\n",
       "      <td>-7.142857</td>\n",
       "      <td>2012-01-13 14:06:00</td>\n",
       "    </tr>\n",
       "    <tr>\n",
       "      <th>9766</th>\n",
       "      <td>1345234320</td>\n",
       "      <td>12.56</td>\n",
       "      <td>12.56</td>\n",
       "      <td>11.93</td>\n",
       "      <td>11.93</td>\n",
       "      <td>13.440500</td>\n",
       "      <td>160.465656</td>\n",
       "      <td>11.938965</td>\n",
       "      <td>-5.280805</td>\n",
       "      <td>2012-08-17 20:12:00</td>\n",
       "    </tr>\n",
       "    <tr>\n",
       "      <th>9736</th>\n",
       "      <td>1345231980</td>\n",
       "      <td>13.99</td>\n",
       "      <td>13.99</td>\n",
       "      <td>13.30</td>\n",
       "      <td>13.30</td>\n",
       "      <td>8.228979</td>\n",
       "      <td>111.377427</td>\n",
       "      <td>13.534780</td>\n",
       "      <td>-5.187970</td>\n",
       "      <td>2012-08-17 19:33:00</td>\n",
       "    </tr>\n",
       "  </tbody>\n",
       "</table>\n",
       "</div>"
      ],
      "text/plain": [
       "       Timestamp   Open   High    Low  Close  Volume_(BTC)  Volume_(Currency)  \\\n",
       "9739  1345232160  14.68  14.68  13.22  13.22      7.295131         103.741625   \n",
       "9580  1345191120  16.41  16.41  15.01  15.01     46.402803         747.470000   \n",
       "9586  1345191480  16.39  16.39  15.00  15.00     27.408728         449.135000   \n",
       "9758  1345233780  12.97  12.97  12.00  12.00     20.174690         242.265729   \n",
       "9746  1345232820  13.04  13.04  12.07  12.07    570.000000        7172.341955   \n",
       "9756  1345233660  12.98  12.98  12.02  12.02      1.481692          17.963139   \n",
       "9748  1345233060  12.99  13.00  12.09  12.09     13.520000         174.843000   \n",
       "199   1326463560   7.35   7.35   6.86   6.86      1.457726          10.578299   \n",
       "9766  1345234320  12.56  12.56  11.93  11.93     13.440500         160.465656   \n",
       "9736  1345231980  13.99  13.99  13.30  13.30      8.228979         111.377427   \n",
       "\n",
       "      Weighted_Price     Change               Dates  \n",
       "9739       14.220667 -11.043873 2012-08-17 19:36:00  \n",
       "9580       16.108294  -9.327115 2012-08-17 08:12:00  \n",
       "9586       16.386568  -9.266667 2012-08-17 08:18:00  \n",
       "9758       12.008399  -8.083333 2012-08-17 20:03:00  \n",
       "9746       12.583056  -8.036454 2012-08-17 19:47:00  \n",
       "9756       12.123400  -7.986689 2012-08-17 20:01:00  \n",
       "9748       12.932175  -7.444169 2012-08-17 19:51:00  \n",
       "199         7.256713  -7.142857 2012-01-13 14:06:00  \n",
       "9766       11.938965  -5.280805 2012-08-17 20:12:00  \n",
       "9736       13.534780  -5.187970 2012-08-17 19:33:00  "
      ]
     },
     "execution_count": 207,
     "metadata": {},
     "output_type": "execute_result"
    }
   ],
   "source": [
    "df.drop(df[df['Change'] < -50].index, inplace = True) #filter false datapoints\n",
    "df.nsmallest(10, 'Change')"
   ]
  },
  {
   "cell_type": "code",
   "execution_count": 208,
   "metadata": {},
   "outputs": [
    {
     "data": {
      "text/plain": [
       "(10000, 10)"
      ]
     },
     "execution_count": 208,
     "metadata": {},
     "output_type": "execute_result"
    }
   ],
   "source": [
    "df.shape"
   ]
  },
  {
   "cell_type": "code",
   "execution_count": 209,
   "metadata": {},
   "outputs": [
    {
     "data": {
      "text/plain": [
       "Text(0, 0.5, '$ Price')"
      ]
     },
     "execution_count": 209,
     "metadata": {},
     "output_type": "execute_result"
    },
    {
     "data": {
      "image/png": "[encoded data removed]",
      "text/plain": [
       "<Figure size 864x504 with 1 Axes>"
      ]
     },
     "metadata": {},
     "output_type": "display_data"
    }
   ],
   "source": [
    "plt.figure(figsize = (12, 7)).patch.set_facecolor('white')\n",
    "plt.plot(df[\"Timestamp\"], df[\"Open\"], color='goldenrod', lw=2)\n",
    "plt.title(\"Bitcoin Price over time\", size=25)\n",
    "plt.xlabel(\"Time\", size=20)\n",
    "plt.ylabel(\"$ Price\", size=20)"
   ]
  },
  {
   "cell_type": "code",
   "execution_count": 210,
   "metadata": {},
   "outputs": [
    {
     "data": {
      "text/plain": [
       "Text(0, 0.5, '$ Price')"
      ]
     },
     "execution_count": 210,
     "metadata": {},
     "output_type": "execute_result"
    },
    {
     "data": {
      "image/png": "[encoded data removed]",
      "text/plain": [
       "<Figure size 864x504 with 1 Axes>"
      ]
     },
     "metadata": {},
     "output_type": "display_data"
    }
   ],
   "source": [
    "plt.figure(figsize = (12, 7)).patch.set_facecolor('white')\n",
    "plt.plot(df[\"Timestamp\"], df[\"Volume_(Currency)\"], color='blue', lw=2)\n",
    "plt.title(\"Bitcoin volume over time\", size=25)\n",
    "plt.xlabel(\"Time\", size=20)\n",
    "plt.ylabel(\"$ Price\", size=20)"
   ]
  },
  {
   "cell_type": "code",
   "execution_count": 211,
   "metadata": {},
   "outputs": [
    {
     "data": {
      "text/plain": [
       "Text(0, 0.5, '$ Price')"
      ]
     },
     "execution_count": 211,
     "metadata": {},
     "output_type": "execute_result"
    },
    {
     "data": {
      "image/png": "[encoded data removed]",
      "text/plain": [
       "<Figure size 864x504 with 1 Axes>"
      ]
     },
     "metadata": {},
     "output_type": "display_data"
    }
   ],
   "source": [
    "plt.figure(figsize = (12, 7)).patch.set_facecolor('white')\n",
    "plt.plot(df[\"Timestamp\"], df[\"Change\"], color='red', lw=2)\n",
    "plt.title(\"Bitcoin Price change over time\", size=25)\n",
    "plt.xlabel(\"Time\", size=20)\n",
    "plt.ylabel(\"$ Price\", size=20)"
   ]
  },
  {
   "cell_type": "code",
   "execution_count": 212,
   "metadata": {},
   "outputs": [],
   "source": [
    "required_features = ['Open', 'High', 'Low', 'Volume_(BTC)', 'Volume_(Currency)', 'Weighted_Price']\n",
    "output_label = 'Close'"
   ]
  },
  {
   "cell_type": "code",
   "execution_count": 213,
   "metadata": {},
   "outputs": [],
   "source": [
    "x_train, x_test, y_train, y_test = train_test_split(\n",
    "df[required_features],\n",
    "df[output_label],\n",
    "test_size = 0.3\n",
    ")"
   ]
  },
  {
   "cell_type": "code",
   "execution_count": 214,
   "metadata": {},
   "outputs": [
    {
     "data": {
      "text/plain": [
       "LinearRegression()"
      ]
     },
     "execution_count": 214,
     "metadata": {},
     "output_type": "execute_result"
    }
   ],
   "source": [
    "model = LinearRegression()\n",
    "model.fit(x_train, y_train)"
   ]
  },
  {
   "cell_type": "code",
   "execution_count": 215,
   "metadata": {},
   "outputs": [
    {
     "data": {
      "text/plain": [
       "0.00040535758145535903"
      ]
     },
     "execution_count": 215,
     "metadata": {},
     "output_type": "execute_result"
    }
   ],
   "source": [
    "y_pred_train = model.predict(x_train)\n",
    "mean_squared_error(y_train, y_pred_train)"
   ]
  },
  {
   "cell_type": "code",
   "execution_count": 216,
   "metadata": {},
   "outputs": [],
   "source": [
    "#future_set = df.shift(periods=30).tail(30)\n",
    "#prediction = model.predict(future_set[required_features])\n",
    "model.fit(x_test, y_test)\n",
    "y_pred_test = model.predict(x_test)\n"
   ]
  },
  {
   "cell_type": "code",
   "execution_count": 217,
   "metadata": {},
   "outputs": [
    {
     "data": {
      "text/plain": [
       "9.364157361522655e-05"
      ]
     },
     "execution_count": 217,
     "metadata": {},
     "output_type": "execute_result"
    }
   ],
   "source": [
    "mean_squared_error(y_pred_test, y_test) #validation error"
   ]
  },
  {
   "cell_type": "code",
   "execution_count": 218,
   "metadata": {},
   "outputs": [
    {
     "name": "stdout",
     "output_type": "stream",
     "text": [
      "(3000, 6) (3000,)\n"
     ]
    }
   ],
   "source": [
    "print(x_test.shape, y_test.shape)"
   ]
  },
  {
   "cell_type": "code",
   "execution_count": 219,
   "metadata": {},
   "outputs": [],
   "source": [
    "#plt.scatter(x_test, y_test, color=\"r\", s=10, label=\"Validation Datapoints\")\n",
    "#plt.show() "
   ]
  },
  {
   "cell_type": "code",
   "execution_count": 220,
   "metadata": {},
   "outputs": [],
   "source": [
    "#plt.figure(figsize = (12, 7)).patch.set_facecolor('white')\n",
    "#plt.plot(df[\"Timestamp\"][-400:-60], df[\"Weighted_Price\"][-400:-60], color='goldenrod', lw=2)\n",
    "#plt.plot(future_set[\"Timestamp\"], prediction, color='deeppink', lw=2)\n",
    "#plt.title(\"Bitcoin Price over time\", size=25)\n",
    "#plt.xlabel(\"Time\", size=20)\n",
    "#plt.ylabel(\"$ Price\", size=20)"
   ]
  },
  {
   "cell_type": "code",
   "execution_count": 221,
   "metadata": {},
   "outputs": [],
   "source": [
    "from sklearn.preprocessing import MinMaxScaler"
   ]
  },
  {
   "cell_type": "code",
   "execution_count": 222,
   "metadata": {},
   "outputs": [
    {
     "name": "stdout",
     "output_type": "stream",
     "text": [
      "(4000, 10) (3000, 10) (3000, 10)\n"
     ]
    }
   ],
   "source": [
    "training_data, remaining = np.split(df, [int(.4*len(df))])\n",
    "\n",
    "test_data, final_test_data = np.split(remaining, [int(.5*len(remaining))])\n",
    "print(training_data.shape,test_data.shape, final_test_data.shape)"
   ]
  },
  {
   "cell_type": "code",
   "execution_count": 223,
   "metadata": {},
   "outputs": [
    {
     "data": {
      "text/plain": [
       "(4000, 8)"
      ]
     },
     "execution_count": 223,
     "metadata": {},
     "output_type": "execute_result"
    }
   ],
   "source": [
    "scaler = MinMaxScaler()\n",
    "scaled_train = scaler.fit_transform(training_data.drop(columns=['Timestamp','Dates']))\n",
    "scaled_test = scaler.fit_transform(test_data.drop(columns=['Timestamp','Dates']))\n",
    "scaled_final_test = scaler.fit_transform(final_test_data.drop(columns=['Timestamp','Dates']))\n",
    "\n",
    "\n",
    "\n",
    "scaled_train.shape"
   ]
  },
  {
   "cell_type": "code",
   "execution_count": 224,
   "metadata": {},
   "outputs": [
    {
     "data": {
      "text/plain": [
       "(4000, 7, 1)"
      ]
     },
     "execution_count": 224,
     "metadata": {},
     "output_type": "execute_result"
    }
   ],
   "source": [
    "X_train = [] \n",
    "Y_train = []\n",
    "\n",
    "scaled_train.shape[0]\n",
    "for i in range(0, scaled_train.shape[0]):\n",
    "    Y_train.append(scaled_train[i][3])\n",
    "    X_train.append(np.delete(scaled_train[i],3))\n",
    "    \n",
    "X_train, Y_train = np.array(X_train), np.array(Y_train)\n",
    "X_train = X_train.reshape(X_train.shape[0],X_train.shape[1],1)\n",
    "X_train.shape"
   ]
  },
  {
   "cell_type": "code",
   "execution_count": 225,
   "metadata": {},
   "outputs": [
    {
     "name": "stdout",
     "output_type": "stream",
     "text": [
      "Model: \"sequential_4\"\n",
      "_________________________________________________________________\n",
      " Layer (type)                Output Shape              Param #   \n",
      "=================================================================\n",
      " lstm_16 (LSTM)              (None, 7, 50)             10400     \n",
      "                                                                 \n",
      " dropout_16 (Dropout)        (None, 7, 50)             0         \n",
      "                                                                 \n",
      " lstm_17 (LSTM)              (None, 7, 60)             26640     \n",
      "                                                                 \n",
      " dropout_17 (Dropout)        (None, 7, 60)             0         \n",
      "                                                                 \n",
      " lstm_18 (LSTM)              (None, 7, 80)             45120     \n",
      "                                                                 \n",
      " dropout_18 (Dropout)        (None, 7, 80)             0         \n",
      "                                                                 \n",
      " lstm_19 (LSTM)              (None, 120)               96480     \n",
      "                                                                 \n",
      " dropout_19 (Dropout)        (None, 120)               0         \n",
      "                                                                 \n",
      " dense_4 (Dense)             (None, 1)                 121       \n",
      "                                                                 \n",
      "=================================================================\n",
      "Total params: 178,761\n",
      "Trainable params: 178,761\n",
      "Non-trainable params: 0\n",
      "_________________________________________________________________\n"
     ]
    }
   ],
   "source": [
    "from tensorflow.keras import Sequential\n",
    "from tensorflow.keras.layers import Dense, LSTM, Dropout\n",
    "#Initialize the RNN\n",
    "model = Sequential() \n",
    "model.add(LSTM(units = 50,  activation = 'relu', input_shape=(X_train.shape[1], 1), return_sequences = True))\n",
    "model.add(Dropout(0.2)) \n",
    "model.add(LSTM(units = 60, activation = 'relu', return_sequences = True))\n",
    "model.add(Dropout(0.3)) \n",
    "model.add(LSTM(units = 80, activation = 'relu', return_sequences = True))\n",
    "model.add(Dropout(0.4)) \n",
    "model.add(LSTM(units = 120, activation = 'relu'))\n",
    "model.add(Dropout(0.5)) \n",
    "model.add(Dense(units =1))\n",
    "model.summary()"
   ]
  },
  {
   "cell_type": "code",
   "execution_count": 226,
   "metadata": {},
   "outputs": [
    {
     "name": "stdout",
     "output_type": "stream",
     "text": [
      "Epoch 1/20\n",
      "72/72 [==============================] - 20s 51ms/step - loss: 0.0443 - val_loss: 0.0087\n",
      "Epoch 2/20\n",
      "72/72 [==============================] - 2s 33ms/step - loss: 0.0060 - val_loss: 0.0054\n",
      "Epoch 3/20\n",
      "72/72 [==============================] - 2s 27ms/step - loss: 0.0050 - val_loss: 8.0750e-04\n",
      "Epoch 4/20\n",
      "72/72 [==============================] - 2s 25ms/step - loss: 0.0043 - val_loss: 7.1556e-04\n",
      "Epoch 5/20\n",
      "72/72 [==============================] - 2s 25ms/step - loss: 0.0039 - val_loss: 6.5162e-04\n",
      "Epoch 6/20\n",
      "72/72 [==============================] - 2s 27ms/step - loss: 0.0036 - val_loss: 4.9836e-04\n",
      "Epoch 7/20\n",
      "72/72 [==============================] - 2s 27ms/step - loss: 0.0033 - val_loss: 4.8097e-04\n",
      "Epoch 8/20\n",
      "72/72 [==============================] - 2s 24ms/step - loss: 0.0034 - val_loss: 7.8280e-04\n",
      "Epoch 9/20\n",
      "72/72 [==============================] - 2s 26ms/step - loss: 0.0033 - val_loss: 8.3077e-04\n",
      "Epoch 10/20\n",
      "72/72 [==============================] - 2s 25ms/step - loss: 0.0030 - val_loss: 0.0012\n",
      "Epoch 11/20\n",
      "72/72 [==============================] - 2s 26ms/step - loss: 0.0030 - val_loss: 7.6638e-04\n",
      "Epoch 12/20\n",
      "72/72 [==============================] - 2s 25ms/step - loss: 0.0029 - val_loss: 5.8192e-04\n",
      "Epoch 13/20\n",
      "72/72 [==============================] - 2s 27ms/step - loss: 0.0026 - val_loss: 9.8661e-04\n",
      "Epoch 14/20\n",
      "72/72 [==============================] - 2s 24ms/step - loss: 0.0027 - val_loss: 4.8979e-04\n",
      "Epoch 15/20\n",
      "72/72 [==============================] - 2s 25ms/step - loss: 0.0025 - val_loss: 5.7105e-04\n",
      "Epoch 16/20\n",
      "72/72 [==============================] - 2s 25ms/step - loss: 0.0024 - val_loss: 7.7504e-04\n",
      "Epoch 17/20\n",
      "72/72 [==============================] - 2s 25ms/step - loss: 0.0022 - val_loss: 6.4113e-04\n",
      "Epoch 18/20\n",
      "72/72 [==============================] - 2s 25ms/step - loss: 0.0020 - val_loss: 7.1136e-04\n",
      "Epoch 19/20\n",
      "72/72 [==============================] - 2s 25ms/step - loss: 0.0019 - val_loss: 6.8437e-04\n",
      "Epoch 20/20\n",
      "72/72 [==============================] - 2s 25ms/step - loss: 0.0020 - val_loss: 5.5231e-04\n"
     ]
    }
   ],
   "source": [
    "model.compile(optimizer = 'adam', loss = 'mean_squared_error')\n",
    "history= model.fit(X_train, Y_train, epochs = 20, batch_size =50, validation_split=0.1)"
   ]
  },
  {
   "cell_type": "code",
   "execution_count": 227,
   "metadata": {},
   "outputs": [
    {
     "data": {
      "image/png": "[encoded data removed]",
      "text/plain": [
       "<Figure size 432x288 with 1 Axes>"
      ]
     },
     "metadata": {},
     "output_type": "display_data"
    }
   ],
   "source": [
    "loss = history.history['loss']\n",
    "val_loss = history.history['val_loss']\n",
    "epochs = range(len(loss))\n",
    "plt.figure().patch.set_facecolor('white')\n",
    "plt.plot(epochs, loss, 'b', label='Training loss')\n",
    "plt.plot(epochs, val_loss, 'r', label='Validation loss')\n",
    "plt.title(\"Training and Validation Loss\")\n",
    "plt.legend()\n",
    "plt.show()"
   ]
  },
  {
   "cell_type": "code",
   "execution_count": 238,
   "metadata": {},
   "outputs": [
    {
     "name": "stdout",
     "output_type": "stream",
     "text": [
      "0.00522219953709282\n",
      "0.0013445302000036463\n"
     ]
    }
   ],
   "source": [
    "print(np.mean(history.history['loss']))\n",
    "print(np.mean(history.history['val_loss']))"
   ]
  },
  {
   "cell_type": "code",
   "execution_count": 228,
   "metadata": {},
   "outputs": [
    {
     "name": "stdout",
     "output_type": "stream",
     "text": [
      "(3000, 7) (3000,)\n"
     ]
    },
    {
     "data": {
      "text/plain": [
       "array([1.20336943e-01, 1.20336943e-01, 1.35317997e-01, 1.26582278e-01,\n",
       "       1.27382901e-03, 1.16792650e-04, 1.20677216e-01, 4.76710432e-02])"
      ]
     },
     "execution_count": 228,
     "metadata": {},
     "output_type": "execute_result"
    }
   ],
   "source": [
    "X_test = [] \n",
    "Y_test = []\n",
    "\n",
    "scaled_test.shape[0]\n",
    "for i in range(0, scaled_test.shape[0]):\n",
    "    Y_test.append(scaled_test[i][3])\n",
    "    X_test.append(np.delete(scaled_test[i],3))\n",
    "\n",
    "X_test, Y_test = np.array(X_test), np.array(Y_test) \n",
    "\n",
    "print(X_test.shape, Y_test.shape)\n",
    "Y_pred = model.predict(X_test)\n",
    "Y_pred, Y_test\n",
    "scaler.scale_\n",
    "    \n"
   ]
  },
  {
   "cell_type": "code",
   "execution_count": 229,
   "metadata": {},
   "outputs": [
    {
     "data": {
      "text/plain": [
       "array([[1.7972735],\n",
       "       [1.7971922],\n",
       "       [1.797964 ],\n",
       "       ...,\n",
       "       [5.95718  ],\n",
       "       [5.9843698],\n",
       "       [6.0056887]], dtype=float32)"
      ]
     },
     "execution_count": 229,
     "metadata": {},
     "output_type": "execute_result"
    }
   ],
   "source": [
    "scale = 1/1.20336943e-01\n",
    "Y_test = Y_test*scale \n",
    "Y_pred = Y_pred*scale\n",
    "Y_pred"
   ]
  },
  {
   "cell_type": "code",
   "execution_count": 230,
   "metadata": {},
   "outputs": [
    {
     "data": {
      "text/plain": [
       "array([0.6638843 , 0.64099174, 0.86991736, ..., 6.02074382, 6.08942151,\n",
       "       6.11231407])"
      ]
     },
     "execution_count": 230,
     "metadata": {},
     "output_type": "execute_result"
    }
   ],
   "source": [
    "Y_test"
   ]
  },
  {
   "cell_type": "code",
   "execution_count": 231,
   "metadata": {},
   "outputs": [
    {
     "data": {
      "image/png": "[encoded data removed]",
      "text/plain": [
       "<Figure size 1008x360 with 1 Axes>"
      ]
     },
     "metadata": {
      "needs_background": "light"
     },
     "output_type": "display_data"
    }
   ],
   "source": [
    "plt.figure(figsize=(14,5))\n",
    "plt.plot(Y_test, color = 'red', label = 'Real Bitcoin Price')\n",
    "plt.plot(Y_pred, color = 'green', label = 'Predicted Bitcoin Price')\n",
    "plt.title('Bitcoin Price Prediction using RNN-LSTM')\n",
    "plt.xlabel('Time')\n",
    "plt.ylabel('Price')\n",
    "plt.legend()\n",
    "plt.show()"
   ]
  },
  {
   "cell_type": "code",
   "execution_count": 235,
   "metadata": {},
   "outputs": [
    {
     "name": "stdout",
     "output_type": "stream",
     "text": [
      "(3000, 7) (3000,)\n"
     ]
    },
    {
     "data": {
      "text/plain": [
       "array([1.20336943e-01, 1.20336943e-01, 1.35317997e-01, 1.26582278e-01,\n",
       "       1.27382901e-03, 1.16792650e-04, 1.20677216e-01, 4.76710432e-02])"
      ]
     },
     "execution_count": 235,
     "metadata": {},
     "output_type": "execute_result"
    }
   ],
   "source": [
    "X_final_test = [] \n",
    "Y_final_test = []\n",
    "\n",
    "scaled_final_test.shape[0]\n",
    "for i in range(0, scaled_final_test.shape[0]):\n",
    "    Y_final_test.append(scaled_final_test[i][3])\n",
    "    X_final_test.append(np.delete(scaled_final_test[i],3))\n",
    "\n",
    "X_final_test, Y_final_test = np.array(X_final_test), np.array(Y_final_test) \n",
    "\n",
    "print(X_final_test.shape, Y_final_test.shape)\n",
    "Y_final_pred = model.predict(X_final_test)\n",
    "Y_final_pred,Y_final_test\n",
    "scaler.scale_"
   ]
  },
  {
   "cell_type": "code",
   "execution_count": 236,
   "metadata": {},
   "outputs": [
    {
     "data": {
      "text/plain": [
       "array([[1.7985064],\n",
       "       [1.7984594],\n",
       "       [1.7984685],\n",
       "       ...,\n",
       "       [1.8217988],\n",
       "       [1.8217176],\n",
       "       [1.8550766]], dtype=float32)"
      ]
     },
     "execution_count": 236,
     "metadata": {},
     "output_type": "execute_result"
    }
   ],
   "source": [
    "scale = 1/1.20336943e-01\n",
    "Y_final_test = Y_final_test*scale \n",
    "Y_final_pred = Y_final_pred*scale\n",
    "Y_final_pred"
   ]
  },
  {
   "cell_type": "code",
   "execution_count": 253,
   "metadata": {},
   "outputs": [
    {
     "data": {
      "text/plain": [
       "((3000, 1), (3000,))"
      ]
     },
     "execution_count": 253,
     "metadata": {},
     "output_type": "execute_result"
    }
   ],
   "source": [
    "Y_final_pred.shape, Y_final_test.shape\n"
   ]
  },
  {
   "cell_type": "code",
   "execution_count": 252,
   "metadata": {},
   "outputs": [
    {
     "data": {
      "text/plain": [
       "0.44508651793749004"
      ]
     },
     "execution_count": 252,
     "metadata": {},
     "output_type": "execute_result"
    }
   ],
   "source": [
    "mean_squared_error(Y_final_test, Y_final_pred)"
   ]
  }
 ],
 "metadata": {
  "interpreter": {
   "hash": "2be5faf79681da6f2a61fdfdd5405d65d042280f7fba6178067603e3a2925119"
  },
  "kernelspec": {
   "display_name": "Python 3.10.1 64-bit",
   "language": "python",
   "name": "python3"
  },
  "language_info": {
   "codemirror_mode": {
    "name": "ipython",
    "version": 3
   },
   "file_extension": ".py",
   "mimetype": "text/x-python",
   "name": "python",
   "nbconvert_exporter": "python",
   "pygments_lexer": "ipython3",
   "version": "3.10.1"
  },
  "orig_nbformat": 4
 },
 "nbformat": 4,
 "nbformat_minor": 2
}
